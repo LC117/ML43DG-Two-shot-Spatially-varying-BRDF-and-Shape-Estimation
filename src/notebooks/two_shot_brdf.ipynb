{
 "cells": [
  {
   "cell_type": "markdown",
   "id": "38f8fce3",
   "metadata": {},
   "source": [
    "# Two Shot BRDF with PyTorch"
   ]
  },
  {
   "cell_type": "markdown",
   "id": "3edb66b0",
   "metadata": {},
   "source": [
    "## 1. Data Loading\n",
    "### 1.1 Downloading the original dataset\n",
    "\n",
    "The dataset which is used by Boss et al. can be found at (https://drive.google.com/file/d/14mou3Va65deimPYE5GtFdK8OS3I0BSzq/view). To download the full **98GB** dataset execute the following cell: "
   ]
  },
  {
   "cell_type": "code",
   "execution_count": 8,
   "id": "28d86f6f",
   "metadata": {},
   "outputs": [
    {
     "name": "stdout",
     "output_type": "stream",
     "text": [
      "Haha! Yeah gotcha! Let's make 10 sub-repos each with a slice of this bad boy because I dunno...\n",
      "Extracting...\n"
     ]
    }
   ],
   "source": [
    "!echo \"Haha! Yeah gotcha! Let's make 10 sub-repos each with a slice of this bad zip-boy because I dunno...\"\n",
    "# TODO\n",
    "!echo \"Extracting...\"\n",
    "# TODO"
   ]
  },
  {
   "cell_type": "markdown",
   "id": "6e450ec2",
   "metadata": {},
   "source": []
  },
  {
   "cell_type": "code",
   "execution_count": null,
   "id": "88e2a13e",
   "metadata": {},
   "outputs": [],
   "source": []
  }
 ],
 "metadata": {
  "kernelspec": {
   "display_name": "Python 3 (ipykernel)",
   "language": "python",
   "name": "python3"
  },
  "language_info": {
   "codemirror_mode": {
    "name": "ipython",
    "version": 3
   },
   "file_extension": ".py",
   "mimetype": "text/x-python",
   "name": "python",
   "nbconvert_exporter": "python",
   "pygments_lexer": "ipython3",
   "version": "3.8.12"
  }
 },
 "nbformat": 4,
 "nbformat_minor": 5
}
