{
 "cells": [
  {
   "cell_type": "code",
   "execution_count": 1,
   "id": "1114ebc3",
   "metadata": {},
   "outputs": [],
   "source": [
    "import pyexr\n",
    "from matplotlib import pyplot as plt"
   ]
  },
  {
   "cell_type": "code",
   "execution_count": 11,
   "id": "1f6fe353",
   "metadata": {},
   "outputs": [],
   "source": [
    "def exr_to_png(path, out_path, name, use_z):\n",
    "    img = pyexr.open(\"{}/{}.exr\".format(path, name)).get()\n",
    "    if use_z:\n",
    "        img = img[:, :, 0]\n",
    "        plt.imsave(\"{}/{}.png\".format(out_path, name), img, cmap=\"gray\")\n",
    "    else:\n",
    "        img = (img - img.min()) / (img.max() - img.min())\n",
    "        plt.imsave(\"{}/{}.png\".format(out_path, name), img)"
   ]
  },
  {
   "cell_type": "code",
   "execution_count": 13,
   "id": "b8425822",
   "metadata": {},
   "outputs": [],
   "source": [
    "path = \"Test_Results/0\"\n",
    "out_path = \"Test_Results/1\"\n",
    "files = [(\"depth-pred0\", True), (\"depth-pred1\", True),\n",
    "         (\"normal-pred0\", False), (\"normal-pred1\", False),\n",
    "         (\"rerender0\", False), (\"rerender1\", False)]\n",
    "for f in files:\n",
    "    exr_to_png(path, out_path, f[0], f[1])"
   ]
  },
  {
   "cell_type": "code",
   "execution_count": null,
   "id": "d2177e35",
   "metadata": {},
   "outputs": [],
   "source": []
  },
  {
   "cell_type": "code",
   "execution_count": null,
   "id": "87ded183",
   "metadata": {},
   "outputs": [],
   "source": []
  }
 ],
 "metadata": {
  "kernelspec": {
   "display_name": "Python 3 (ipykernel)",
   "language": "python",
   "name": "python3"
  },
  "language_info": {
   "codemirror_mode": {
    "name": "ipython",
    "version": 3
   },
   "file_extension": ".py",
   "mimetype": "text/x-python",
   "name": "python",
   "nbconvert_exporter": "python",
   "pygments_lexer": "ipython3",
   "version": "3.9.7"
  }
 },
 "nbformat": 4,
 "nbformat_minor": 5
}
